{
  "nbformat": 4,
  "nbformat_minor": 0,
  "metadata": {
    "colab": {
      "name": "ri-lab6-igor.ipynb",
      "version": "0.3.2",
      "provenance": [],
      "collapsed_sections": [],
      "toc_visible": true,
      "include_colab_link": true
    },
    "kernelspec": {
      "name": "python3",
      "display_name": "Python 3"
    }
  },
  "cells": [
    {
      "cell_type": "markdown",
      "metadata": {
        "id": "view-in-github",
        "colab_type": "text"
      },
      "source": [
        "<a href=\"https://colab.research.google.com/github/igormatheusdiniz/ri_lab_06/blob/master/ri_lab6_igor.ipynb\" target=\"_parent\"><img src=\"https://colab.research.google.com/assets/colab-badge.svg\" alt=\"Open In Colab\"/></a>"
      ]
    },
    {
      "cell_type": "code",
      "metadata": {
        "id": "mmKUEBAHLTnk",
        "colab_type": "code",
        "outputId": "18f00b1c-0da1-4641-8979-de74dce68b07",
        "colab": {
          "base_uri": "https://localhost:8080/",
          "height": 85
        }
      },
      "source": [
        "import matplotlib.pyplot as plt\n",
        "import numpy as np\n",
        "import pandas as pd\n",
        "import re\n",
        "import seaborn as sns\n",
        "import heapq as hp\n",
        "import math\n",
        "\n",
        "import nltk\n",
        "nltk.download('rslp')\n",
        "nltk.download('stopwords')\n",
        "\n",
        "from nltk.corpus import stopwords\n",
        "from nltk.tokenize import RegexpTokenizer\n",
        "from nltk.tokenize import word_tokenize\n",
        "from collections import Counter\n",
        "from nltk.stem import PorterStemmer\n",
        "from nltk.tokenize import sent_tokenize, word_tokenize\n",
        "import heapq as hp\n"
      ],
      "execution_count": 72,
      "outputs": [
        {
          "output_type": "stream",
          "text": [
            "[nltk_data] Downloading package rslp to /root/nltk_data...\n",
            "[nltk_data]   Package rslp is already up-to-date!\n",
            "[nltk_data] Downloading package stopwords to /root/nltk_data...\n",
            "[nltk_data]   Package stopwords is already up-to-date!\n"
          ],
          "name": "stdout"
        }
      ]
    },
    {
      "cell_type": "code",
      "metadata": {
        "id": "QA7XfdsdvC-r",
        "colab_type": "code",
        "colab": {}
      },
      "source": [
        "url = 'https://raw.githubusercontent.com/Benardi/ri_lab_01/master/output/results.csv'"
      ],
      "execution_count": 0,
      "outputs": []
    },
    {
      "cell_type": "markdown",
      "metadata": {
        "id": "zsskq1OMvCYH",
        "colab_type": "text"
      },
      "source": [
        "Utilizei a base de dados de Benardi, e por motivos de não precisar importar o .csv toda vez ao inicializar o colab, defini a url em meu lab."
      ]
    },
    {
      "cell_type": "markdown",
      "metadata": {
        "id": "BCjxEMV4t_9w",
        "colab_type": "text"
      },
      "source": [
        "# Tratamento dos dados"
      ]
    },
    {
      "cell_type": "code",
      "metadata": {
        "id": "B5ZJ7alqihe0",
        "colab_type": "code",
        "colab": {}
      },
      "source": [
        "dataframe = pd.read_csv(url)\n",
        "dataframe['treatedText'] = dataframe.text.apply(lambda x: re.sub('[^0-9A-ZÀ-Úa-zà-ú\\']', ' ', x.lower()))"
      ],
      "execution_count": 0,
      "outputs": []
    },
    {
      "cell_type": "markdown",
      "metadata": {
        "id": "oaQxdvb3x7Ge",
        "colab_type": "text"
      },
      "source": [
        "Diferente do lab anterior onde para obter os tokens, não utilizei o método tokenize do ntlk, para atender as especificações do lab atual, atualizei a forma que recupero os tokens do meu texto."
      ]
    },
    {
      "cell_type": "code",
      "metadata": {
        "id": "iRjynap9fj1T",
        "colab_type": "code",
        "colab": {}
      },
      "source": [
        "regex = RegexpTokenizer(r'[A-zÀ-ú-]+')\n",
        "stopWords = set(stopwords.words('portuguese'))"
      ],
      "execution_count": 0,
      "outputs": []
    },
    {
      "cell_type": "markdown",
      "metadata": {
        "id": "y2nGaC3xC8HO",
        "colab_type": "text"
      },
      "source": [
        "# Questão 1 e 2"
      ]
    },
    {
      "cell_type": "markdown",
      "metadata": {
        "id": "5r-Q7z2OVaZ0",
        "colab_type": "text"
      },
      "source": [
        "## Algoritimo de construção de índice Invertido"
      ]
    },
    {
      "cell_type": "code",
      "metadata": {
        "id": "5YORO0XC5du5",
        "colab_type": "code",
        "colab": {}
      },
      "source": [
        "\n",
        "def ocurrences(list, token):\n",
        "  print(list)\n",
        "  print(token)\n",
        "  count = 0\n",
        "  for word in list:\n",
        "    if word==token:\n",
        "      count +=1\n",
        "  return count\n",
        "      \n",
        "\n",
        "def invertedIndex(documents):\n",
        "  I = {}\n",
        "  index = 0\n",
        "  \n",
        "  ##Para cada documento na minha relação de documentos irei realizar o processo de tokenização\n",
        "  for document in documents.treatedText:\n",
        "    index += 1\n",
        "    T = [token for token in regex.tokenize(document)\n",
        "        if((len(token)>=3) and token not in stopWords and token[0] != \"[\" and token[-1]!=\"]\")]\n",
        "    \n",
        "    ##Por motivos didáticos, resolvi ordenar minha lista de tokens\n",
        "    #T.sort()\n",
        "    \n",
        "    ## Pra cada token criado se ele ainda não existe na minha estrutura de armazenamento como uma chave, eu crio e em seguida adiciono\n",
        "    ##o indice do documento como valor para esta chave\n",
        "    ## Caso já exista, apenas adiciona o índice do documento para esta chave\n",
        "    for token in T:\n",
        "      if token not in I.keys():\n",
        "        I[token]=[]\n",
        "       \n",
        "      pair = []\n",
        "      ocurrence = T.count(token)\n",
        "     \n",
        "      pair.append(index)\n",
        "      pair.append(ocurrence)\n",
        "      if(pair not in I[token]):\n",
        "        I[token].append(pair)\n",
        "  \n",
        "  ## Calculo do IDF\n",
        "  for key in I:\n",
        "    idf = math.log((documents.treatedText.count()+1)/ len(I[key]))\n",
        "    I[key].append(idf)\n",
        "        \n",
        "  ## Por motivos estéticos resolvi comentar esta linha para não ficar uma lista de print muito grande no gitHub, dificultando a visualização do documento como um todo      \n",
        "  ##print(I)\n",
        "  return I\n",
        "\n",
        "## Exportando para .csv\n",
        "invertedIndex = invertedIndex(dataframe)\n",
        "data = {'token': list(invertedIndex.keys()), 'ocurrences': list(invertedIndex.values())}\n",
        "df = pd.DataFrame(data)\n",
        "df.to_csv('index.csv')"
      ],
      "execution_count": 0,
      "outputs": []
    },
    {
      "cell_type": "markdown",
      "metadata": {
        "id": "j-BPpTexdDIQ",
        "colab_type": "text"
      },
      "source": [
        "# Questão 3"
      ]
    },
    {
      "cell_type": "markdown",
      "metadata": {
        "id": "nYE3MziKfXQS",
        "colab_type": "text"
      },
      "source": [
        "## Modelo Binario"
      ]
    },
    {
      "cell_type": "code",
      "metadata": {
        "id": "0nO48J9qsbl7",
        "colab_type": "code",
        "outputId": "e06dff72-febf-47e8-dc47-653629448d27",
        "colab": {
          "base_uri": "https://localhost:8080/",
          "height": 34
        }
      },
      "source": [
        "def binarioModelDocument(document):\n",
        "  vetores = []\n",
        "  #for document in dataframe.treatedText:\n",
        "  ## Tokenização do documento passado\n",
        "  dicionario = {}\n",
        "  T = [token for token in regex.tokenize(document)\n",
        "      if((len(token)>=3) and token not in stopWords and token[0] != \"[\" and token[-1]!=\"]\")]\n",
        "    \n",
        "    ##Por motivos didáticos, resolvi ordenar minha lista de tokens\n",
        "  #T.sort()\n",
        "  \n",
        "  for indice in invertedIndex:\n",
        "    dicionario[indice] = 0\n",
        "    \n",
        "    if indice in T :\n",
        "      dicionario[indice] = 1\n",
        "\n",
        "  return dicionario\n",
        "\n",
        "## Metodo para calculo do Score\n",
        "def calculaScore(vetorQuery, vetorDocument):\n",
        "  ##Criação de dois vetores com relação ao vocabulario, query vs. vocabulario, document vs. vocabulario\n",
        "  vetor_num_query = np.array(list(vetorQuery.values()))\n",
        "  vetor_num_documents = np.array(list(vetorDocument.values()))\n",
        "  ##Multiplicação dos vetores\n",
        "  result = vetor_num_query * vetor_num_documents\n",
        "  result = sum(result)\n",
        "  return result\n",
        "\n",
        "\n",
        "def binarioModel(consulta, document): \n",
        "  dicionario = {}\n",
        "  scores = []\n",
        "  vetor = binarioModelDocument(document)\n",
        "  \n",
        "  for indice in invertedIndex:\n",
        "    dicionario[indice] = 0\n",
        "    \n",
        "    if indice in consulta.split() :\n",
        "      dicionario[indice] = 1\n",
        "  \n",
        "  ## Calculo do score por modelo Binario, chamando o método auxiliar criado anteriormente\n",
        "  score = calculaScore(dicionario, vetor)       \n",
        "  return (score)\n",
        "\n",
        "binary_model = binarioModel(\"juíza federal\",dataframe.treatedText[0])\n",
        "print(binary_model)\n",
        "  \n",
        "    "
      ],
      "execution_count": 77,
      "outputs": [
        {
          "output_type": "stream",
          "text": [
            "2\n"
          ],
          "name": "stdout"
        }
      ]
    },
    {
      "cell_type": "markdown",
      "metadata": {
        "id": "XOZE2OjEfaQB",
        "colab_type": "text"
      },
      "source": [
        "##  TF"
      ]
    },
    {
      "cell_type": "code",
      "metadata": {
        "id": "VSn-iZY7PiA2",
        "colab_type": "code",
        "outputId": "1be1971e-e8f2-47ad-9790-d074a95a4609",
        "colab": {
          "base_uri": "https://localhost:8080/",
          "height": 34
        }
      },
      "source": [
        "def termFrequency(terms, document):\n",
        "  hashtable = {}\n",
        "  query =[]\n",
        "  document_vocabulary = []\n",
        "  \n",
        "  ## Tokenização do documento\n",
        "  document_vocabulary = [token for token in regex.tokenize(document)\n",
        "      if((len(token)>=3) and token not in stopWords and token[0] != \"[\" and token[-1]!=\"]\")]\n",
        "  \n",
        "  ## Construção do vetor de termos em comum da query e do vocabulario\n",
        "  for term in terms.split():\n",
        "    if term in invertedIndex.keys():\n",
        "      query.append(term)\n",
        "    \n",
        "  ## Contagem da frequência de acordo o palavra no vocabulario e na query de consulta  \n",
        "  frequency = 0\n",
        "  for word in document_vocabulary:\n",
        "    if word in query:\n",
        "      frequency += 1\n",
        "    \n",
        "  return (frequency)\n",
        "\n",
        "resultado = termFrequency(\"juíza federal\", dataframe.treatedText[158])\n",
        "\n",
        "print(resultado)"
      ],
      "execution_count": 78,
      "outputs": [
        {
          "output_type": "stream",
          "text": [
            "0\n"
          ],
          "name": "stdout"
        }
      ]
    },
    {
      "cell_type": "markdown",
      "metadata": {
        "id": "P4RkQghRpcmT",
        "colab_type": "text"
      },
      "source": [
        "## TF - IDF"
      ]
    },
    {
      "cell_type": "code",
      "metadata": {
        "id": "Mg5mi-7apX7y",
        "colab_type": "code",
        "outputId": "b67bf4e5-4997-4a25-dfe3-fbfb44edc5e9",
        "colab": {
          "base_uri": "https://localhost:8080/",
          "height": 34
        }
      },
      "source": [
        "def tf_idf(terms, document):\n",
        "  hashtable = {}\n",
        "  invertedLists ={}\n",
        "  R = []\n",
        "  \n",
        "  document_vocabulary = [token for token in regex.tokenize(document)\n",
        "                         if((len(token)>=3) and token not in stopWords and token[0] != \"[\" and token[-1]!=\"]\")]\n",
        "  \n",
        "  for term in terms.split():\n",
        "    if term in invertedIndex.keys():\n",
        "      invertedLists[term] = []\n",
        "      invertedLists[term] = invertedIndex[term]\n",
        "  \n",
        "  ## Semelhante ao metodo\n",
        "  frequency = 0\n",
        "  for word in document_vocabulary:\n",
        "    if word in invertedLists:\n",
        "      frequency += 1*invertedLists[word][-1]\n",
        "  \n",
        "  return frequency\n",
        "\n",
        "resultado = tf_idf(\"juíza federal\", dataframe.treatedText[14])\n",
        "\n",
        "print(resultado)"
      ],
      "execution_count": 79,
      "outputs": [
        {
          "output_type": "stream",
          "text": [
            "1.6296406197516198\n"
          ],
          "name": "stdout"
        }
      ]
    },
    {
      "cell_type": "markdown",
      "metadata": {
        "id": "bPAiwskxvEBh",
        "colab_type": "text"
      },
      "source": [
        "## BM25"
      ]
    },
    {
      "cell_type": "code",
      "metadata": {
        "id": "eGZFqxWSvHZZ",
        "colab_type": "code",
        "outputId": "ef5bfe80-0b2e-40e8-e814-e672c0178a41",
        "colab": {
          "base_uri": "https://localhost:8080/",
          "height": 34
        }
      },
      "source": [
        "N = dataframe.text.count()\n",
        "def bm25(consulta, document, k):\n",
        "  document_vocabulary = [token for token in regex.tokenize(document)\n",
        "                         if((len(token)>=3) and token not in stopWords and token[0] != \"[\" and token[-1]!=\"]\")]\n",
        "  query = consulta.split()\n",
        "  intersec =  list(set(document_vocabulary) & set(query))\n",
        "  \n",
        "  score = 0\n",
        "  for word in intersec:\n",
        "    cwq = query.count(word)\n",
        "    cwd = document_vocabulary.count(word)\n",
        "    dfw = len(invertedIndex[word][:-1])\n",
        "    y = ((k+1)*cwd)/(cwd+k)\n",
        "    score += cwq*y*math.log((N+1)/(dfw))\n",
        "  \n",
        "  return score\n",
        "    \n",
        "bm25_result = bm25('forças armadas', dataframe.treatedText[149], 5)\n",
        "print(bm25_result)\n",
        "  "
      ],
      "execution_count": 80,
      "outputs": [
        {
          "output_type": "stream",
          "text": [
            "16.073889420086477\n"
          ],
          "name": "stdout"
        }
      ]
    },
    {
      "cell_type": "markdown",
      "metadata": {
        "id": "n8103HV8iTo6",
        "colab_type": "text"
      },
      "source": [
        "### Testando para vários Ks"
      ]
    },
    {
      "cell_type": "code",
      "metadata": {
        "id": "K0Gra6ZVjF_e",
        "colab_type": "code",
        "colab": {}
      },
      "source": [
        "consultas = [\"forças armadas\", \"jair bolsonaro\", \"universidades federais\"]"
      ],
      "execution_count": 0,
      "outputs": []
    },
    {
      "cell_type": "code",
      "metadata": {
        "id": "B2aYJkaqiao2",
        "colab_type": "code",
        "outputId": "c366e333-115d-4881-e944-878cf6bb879a",
        "colab": {
          "base_uri": "https://localhost:8080/",
          "height": 2809
        }
      },
      "source": [
        "k_num = []\n",
        "resultados = []\n",
        "\n",
        "## Simulando o algoritimo BM25 para diferentes valores de K\n",
        "for consulta in consultas:\n",
        "  for k in [0, 1, 10, 15, 20, 100, 150, 200, 500, 1000,1500,2000,2500,5000,10000]:\n",
        "    result = bm25(consulta, dataframe.treatedText[149], k)\n",
        "    resultados.append(result)\n",
        "    k_num.append(k)\n",
        "    print(\"=================\")\n",
        "    print(\"Consulta: %s - k: %d\" % (consulta, k))\n",
        "    print(\"resultado:  %f\" % (result))\n",
        "  \n",
        "tible = pd.DataFrame()\n",
        "tible[\"k\"] = k_num\n",
        "tible[\"resultados\"] = resultados\n",
        "tible = tible[0:15]\n",
        "tible"
      ],
      "execution_count": 82,
      "outputs": [
        {
          "output_type": "stream",
          "text": [
            "=================\n",
            "Consulta: forças armadas - k: 0\n",
            "resultado:  4.487565\n",
            "=================\n",
            "Consulta: forças armadas - k: 1\n",
            "resultado:  7.906309\n",
            "=================\n",
            "Consulta: forças armadas - k: 10\n",
            "resultado:  21.012826\n",
            "=================\n",
            "Consulta: forças armadas - k: 15\n",
            "resultado:  23.751972\n",
            "=================\n",
            "Consulta: forças armadas - k: 20\n",
            "resultado:  25.493711\n",
            "=================\n",
            "Consulta: forças armadas - k: 100\n",
            "resultado:  31.321304\n",
            "=================\n",
            "Consulta: forças armadas - k: 150\n",
            "resultado:  31.956949\n",
            "=================\n",
            "Consulta: forças armadas - k: 200\n",
            "resultado:  32.286247\n",
            "=================\n",
            "Consulta: forças armadas - k: 500\n",
            "resultado:  32.899405\n",
            "=================\n",
            "Consulta: forças armadas - k: 1000\n",
            "resultado:  33.109874\n",
            "=================\n",
            "Consulta: forças armadas - k: 1500\n",
            "resultado:  33.180728\n",
            "=================\n",
            "Consulta: forças armadas - k: 2000\n",
            "resultado:  33.216287\n",
            "=================\n",
            "Consulta: forças armadas - k: 2500\n",
            "resultado:  33.237665\n",
            "=================\n",
            "Consulta: forças armadas - k: 5000\n",
            "resultado:  33.280517\n",
            "=================\n",
            "Consulta: forças armadas - k: 10000\n",
            "resultado:  33.301991\n",
            "=================\n",
            "Consulta: jair bolsonaro - k: 0\n",
            "resultado:  0.000000\n",
            "=================\n",
            "Consulta: jair bolsonaro - k: 1\n",
            "resultado:  0.000000\n",
            "=================\n",
            "Consulta: jair bolsonaro - k: 10\n",
            "resultado:  0.000000\n",
            "=================\n",
            "Consulta: jair bolsonaro - k: 15\n",
            "resultado:  0.000000\n",
            "=================\n",
            "Consulta: jair bolsonaro - k: 20\n",
            "resultado:  0.000000\n",
            "=================\n",
            "Consulta: jair bolsonaro - k: 100\n",
            "resultado:  0.000000\n",
            "=================\n",
            "Consulta: jair bolsonaro - k: 150\n",
            "resultado:  0.000000\n",
            "=================\n",
            "Consulta: jair bolsonaro - k: 200\n",
            "resultado:  0.000000\n",
            "=================\n",
            "Consulta: jair bolsonaro - k: 500\n",
            "resultado:  0.000000\n",
            "=================\n",
            "Consulta: jair bolsonaro - k: 1000\n",
            "resultado:  0.000000\n",
            "=================\n",
            "Consulta: jair bolsonaro - k: 1500\n",
            "resultado:  0.000000\n",
            "=================\n",
            "Consulta: jair bolsonaro - k: 2000\n",
            "resultado:  0.000000\n",
            "=================\n",
            "Consulta: jair bolsonaro - k: 2500\n",
            "resultado:  0.000000\n",
            "=================\n",
            "Consulta: jair bolsonaro - k: 5000\n",
            "resultado:  0.000000\n",
            "=================\n",
            "Consulta: jair bolsonaro - k: 10000\n",
            "resultado:  0.000000\n",
            "=================\n",
            "Consulta: universidades federais - k: 0\n",
            "resultado:  0.000000\n",
            "=================\n",
            "Consulta: universidades federais - k: 1\n",
            "resultado:  0.000000\n",
            "=================\n",
            "Consulta: universidades federais - k: 10\n",
            "resultado:  0.000000\n",
            "=================\n",
            "Consulta: universidades federais - k: 15\n",
            "resultado:  0.000000\n",
            "=================\n",
            "Consulta: universidades federais - k: 20\n",
            "resultado:  0.000000\n",
            "=================\n",
            "Consulta: universidades federais - k: 100\n",
            "resultado:  0.000000\n",
            "=================\n",
            "Consulta: universidades federais - k: 150\n",
            "resultado:  0.000000\n",
            "=================\n",
            "Consulta: universidades federais - k: 200\n",
            "resultado:  0.000000\n",
            "=================\n",
            "Consulta: universidades federais - k: 500\n",
            "resultado:  0.000000\n",
            "=================\n",
            "Consulta: universidades federais - k: 1000\n",
            "resultado:  0.000000\n",
            "=================\n",
            "Consulta: universidades federais - k: 1500\n",
            "resultado:  0.000000\n",
            "=================\n",
            "Consulta: universidades federais - k: 2000\n",
            "resultado:  0.000000\n",
            "=================\n",
            "Consulta: universidades federais - k: 2500\n",
            "resultado:  0.000000\n",
            "=================\n",
            "Consulta: universidades federais - k: 5000\n",
            "resultado:  0.000000\n",
            "=================\n",
            "Consulta: universidades federais - k: 10000\n",
            "resultado:  0.000000\n"
          ],
          "name": "stdout"
        },
        {
          "output_type": "execute_result",
          "data": {
            "text/html": [
              "<div>\n",
              "<style scoped>\n",
              "    .dataframe tbody tr th:only-of-type {\n",
              "        vertical-align: middle;\n",
              "    }\n",
              "\n",
              "    .dataframe tbody tr th {\n",
              "        vertical-align: top;\n",
              "    }\n",
              "\n",
              "    .dataframe thead th {\n",
              "        text-align: right;\n",
              "    }\n",
              "</style>\n",
              "<table border=\"1\" class=\"dataframe\">\n",
              "  <thead>\n",
              "    <tr style=\"text-align: right;\">\n",
              "      <th></th>\n",
              "      <th>k</th>\n",
              "      <th>resultados</th>\n",
              "    </tr>\n",
              "  </thead>\n",
              "  <tbody>\n",
              "    <tr>\n",
              "      <th>0</th>\n",
              "      <td>0</td>\n",
              "      <td>4.487565</td>\n",
              "    </tr>\n",
              "    <tr>\n",
              "      <th>1</th>\n",
              "      <td>1</td>\n",
              "      <td>7.906309</td>\n",
              "    </tr>\n",
              "    <tr>\n",
              "      <th>2</th>\n",
              "      <td>10</td>\n",
              "      <td>21.012826</td>\n",
              "    </tr>\n",
              "    <tr>\n",
              "      <th>3</th>\n",
              "      <td>15</td>\n",
              "      <td>23.751972</td>\n",
              "    </tr>\n",
              "    <tr>\n",
              "      <th>4</th>\n",
              "      <td>20</td>\n",
              "      <td>25.493711</td>\n",
              "    </tr>\n",
              "    <tr>\n",
              "      <th>5</th>\n",
              "      <td>100</td>\n",
              "      <td>31.321304</td>\n",
              "    </tr>\n",
              "    <tr>\n",
              "      <th>6</th>\n",
              "      <td>150</td>\n",
              "      <td>31.956949</td>\n",
              "    </tr>\n",
              "    <tr>\n",
              "      <th>7</th>\n",
              "      <td>200</td>\n",
              "      <td>32.286247</td>\n",
              "    </tr>\n",
              "    <tr>\n",
              "      <th>8</th>\n",
              "      <td>500</td>\n",
              "      <td>32.899405</td>\n",
              "    </tr>\n",
              "    <tr>\n",
              "      <th>9</th>\n",
              "      <td>1000</td>\n",
              "      <td>33.109874</td>\n",
              "    </tr>\n",
              "    <tr>\n",
              "      <th>10</th>\n",
              "      <td>1500</td>\n",
              "      <td>33.180728</td>\n",
              "    </tr>\n",
              "    <tr>\n",
              "      <th>11</th>\n",
              "      <td>2000</td>\n",
              "      <td>33.216287</td>\n",
              "    </tr>\n",
              "    <tr>\n",
              "      <th>12</th>\n",
              "      <td>2500</td>\n",
              "      <td>33.237665</td>\n",
              "    </tr>\n",
              "    <tr>\n",
              "      <th>13</th>\n",
              "      <td>5000</td>\n",
              "      <td>33.280517</td>\n",
              "    </tr>\n",
              "    <tr>\n",
              "      <th>14</th>\n",
              "      <td>10000</td>\n",
              "      <td>33.301991</td>\n",
              "    </tr>\n",
              "  </tbody>\n",
              "</table>\n",
              "</div>"
            ],
            "text/plain": [
              "        k  resultados\n",
              "0       0    4.487565\n",
              "1       1    7.906309\n",
              "2      10   21.012826\n",
              "3      15   23.751972\n",
              "4      20   25.493711\n",
              "5     100   31.321304\n",
              "6     150   31.956949\n",
              "7     200   32.286247\n",
              "8     500   32.899405\n",
              "9    1000   33.109874\n",
              "10   1500   33.180728\n",
              "11   2000   33.216287\n",
              "12   2500   33.237665\n",
              "13   5000   33.280517\n",
              "14  10000   33.301991"
            ]
          },
          "metadata": {
            "tags": []
          },
          "execution_count": 82
        }
      ]
    },
    {
      "cell_type": "code",
      "metadata": {
        "id": "d9SZK7_He63_",
        "colab_type": "code",
        "outputId": "c96dc37c-f500-40d3-a9e3-f513521968a8",
        "colab": {
          "base_uri": "https://localhost:8080/",
          "height": 453
        }
      },
      "source": [
        "%matplotlib inline\n",
        "\n",
        "f, ax = plt.subplots(figsize=(7, 7))\n",
        "ax.set(xscale=\"log\", yscale=\"log\")\n",
        "plt.plot(tible[\"k\"], \n",
        "         tible[\"resultados\"],\n",
        "         linestyle='-',\n",
        "         marker='o')"
      ],
      "execution_count": 83,
      "outputs": [
        {
          "output_type": "execute_result",
          "data": {
            "text/plain": [
              "[<matplotlib.lines.Line2D at 0x7f26ba5c86a0>]"
            ]
          },
          "metadata": {
            "tags": []
          },
          "execution_count": 83
        },
        {
          "output_type": "display_data",
          "data": {
            "image/png": "[encoded data removed]",
            "text/plain": [
              "<Figure size 504x504 with 1 Axes>"
            ]
          },
          "metadata": {
            "tags": []
          }
        }
      ]
    },
    {
      "cell_type": "markdown",
      "metadata": {
        "id": "1AKNdwS1ajZy",
        "colab_type": "text"
      },
      "source": [
        "### Discussão para a escolha do K"
      ]
    },
    {
      "cell_type": "markdown",
      "metadata": {
        "id": "APmOXZ6YhXnk",
        "colab_type": "text"
      },
      "source": [
        "Podemos perceber que para valores muito baixos o valor de K não é bom, e para valores muito altos o resultado se assemelha a um resultado intermediário. Para o caso em questão a partir do K=5 os valores do resultado são muito próximos. Logo um valor intermediário seria a melhor escolha."
      ]
    },
    {
      "cell_type": "markdown",
      "metadata": {
        "id": "8u63udwdvIpW",
        "colab_type": "text"
      },
      "source": [
        "# Questão 4"
      ]
    },
    {
      "cell_type": "code",
      "metadata": {
        "id": "ZczyA_nW6Tce",
        "colab_type": "code",
        "colab": {}
      },
      "source": [
        "def calculeModels(consulta, dataframe):\n",
        "  table1 = pd.DataFrame()\n",
        "\n",
        "  rank_binario = []\n",
        "  rank_termFrequency = []\n",
        "  rank_tf_idf = []\n",
        "  rank_bm25 = []\n",
        "\n",
        "  document_number = 1\n",
        "  for document in dataframe.treatedText:\n",
        "  \n",
        "    score_binario = binarioModel(consulta, document)\n",
        "    score_termFrequency = termFrequency(consulta, document)\n",
        "    score_tf_idf = tf_idf(consulta, document)\n",
        "    score_bm25 = bm25(consulta, document,10)\n",
        "  \n",
        "    rank_binario.append((document_number, score_binario))\n",
        "    rank_termFrequency.append((document_number, score_termFrequency))\n",
        "    rank_tf_idf.append((document_number, score_tf_idf))\n",
        "    rank_bm25.append((document_number, score_bm25))\n",
        "  \n",
        "    document_number+=1\n",
        "\n",
        "  rank_binario.sort(key=lambda x: x[1], reverse = True)\n",
        "  rank_termFrequency.sort(key=lambda x: x[1], reverse = True)\n",
        "  rank_tf_idf.sort(key=lambda x: x[1], reverse = True)\n",
        "  rank_bm25.sort(key=lambda x: x[1], reverse = True)\n",
        "\n",
        "  table1[\"Binario\"] = rank_binario\n",
        "  table1[\"TF\"] = rank_termFrequency\n",
        "  table1[\"Tf-Idf\"] = rank_tf_idf\n",
        "  table1[\"BM25\"] = rank_bm25\n",
        "\n",
        "  return table1"
      ],
      "execution_count": 0,
      "outputs": []
    },
    {
      "cell_type": "code",
      "metadata": {
        "id": "etGQVNLdVoKq",
        "colab_type": "code",
        "colab": {}
      },
      "source": [
        "def createTable(consulta, dataframe):\n",
        "  table1 = pd.DataFrame()\n",
        "\n",
        "  rank_binario = []\n",
        "  rank_termFrequency = []\n",
        "  rank_tf_idf = []\n",
        "  rank_bm25 = []\n",
        "\n",
        "  document_number = 0\n",
        "  for document in dataframe.treatedText:\n",
        "  \n",
        "    score_binario = binarioModel(consulta, document)\n",
        "    score_termFrequency = termFrequency(consulta, document)\n",
        "    score_tf_idf = tf_idf(consulta, document)\n",
        "    score_bm25 = bm25(consulta, document,10)\n",
        "  \n",
        "    rank_binario.append((document_number, score_binario))\n",
        "    rank_termFrequency.append((document_number, score_termFrequency))\n",
        "    rank_tf_idf.append((document_number, score_tf_idf))\n",
        "    rank_bm25.append((document_number, score_bm25))\n",
        "  \n",
        "    document_number+=1\n",
        "\n",
        "  rank_binario.sort(key=lambda x: x[1], reverse = True)\n",
        "  rank_termFrequency.sort(key=lambda x: x[1], reverse = True)\n",
        "  rank_tf_idf.sort(key=lambda x: x[1], reverse = True)\n",
        "  rank_bm25.sort(key=lambda x: x[1], reverse = True)\n",
        "\n",
        "  rank_binario = rank_binario[0:5]\n",
        "  rank_termFrequency = rank_termFrequency[0:5]\n",
        "  rank_tf_idf = rank_tf_idf[0:5]\n",
        "  rank_bm25 = rank_bm25[0:5]\n",
        "\n",
        "  table1[\"Binario\"] = rank_binario\n",
        "  table1[\"TF\"] = rank_termFrequency\n",
        "  table1[\"Tf-Idf\"] = rank_tf_idf\n",
        "  table1[\"BM25\"] = rank_bm25\n",
        "\n",
        "  return table1"
      ],
      "execution_count": 0,
      "outputs": []
    },
    {
      "cell_type": "markdown",
      "metadata": {
        "id": "WV-dben7b1qp",
        "colab_type": "text"
      },
      "source": [
        "## Consulta: presidente jair"
      ]
    },
    {
      "cell_type": "code",
      "metadata": {
        "id": "M93h6QV2cJfZ",
        "colab_type": "code",
        "outputId": "ce531797-a4b3-4e3c-e0f9-30e9469cfaa1",
        "colab": {
          "base_uri": "https://localhost:8080/",
          "height": 204
        }
      },
      "source": [
        "tableJair = createTable(\"presidente jair\", dataframe)\n",
        "tableJair"
      ],
      "execution_count": 86,
      "outputs": [
        {
          "output_type": "execute_result",
          "data": {
            "text/html": [
              "<div>\n",
              "<style scoped>\n",
              "    .dataframe tbody tr th:only-of-type {\n",
              "        vertical-align: middle;\n",
              "    }\n",
              "\n",
              "    .dataframe tbody tr th {\n",
              "        vertical-align: top;\n",
              "    }\n",
              "\n",
              "    .dataframe thead th {\n",
              "        text-align: right;\n",
              "    }\n",
              "</style>\n",
              "<table border=\"1\" class=\"dataframe\">\n",
              "  <thead>\n",
              "    <tr style=\"text-align: right;\">\n",
              "      <th></th>\n",
              "      <th>Binario</th>\n",
              "      <th>TF</th>\n",
              "      <th>Tf-Idf</th>\n",
              "      <th>BM25</th>\n",
              "    </tr>\n",
              "  </thead>\n",
              "  <tbody>\n",
              "    <tr>\n",
              "      <th>0</th>\n",
              "      <td>(0, 2)</td>\n",
              "      <td>(62, 21)</td>\n",
              "      <td>(206, 36.60740036104147)</td>\n",
              "      <td>(206, 18.46287284547201)</td>\n",
              "    </tr>\n",
              "    <tr>\n",
              "      <th>1</th>\n",
              "      <td>(1, 2)</td>\n",
              "      <td>(150, 18)</td>\n",
              "      <td>(150, 24.7804771061628)</td>\n",
              "      <td>(150, 15.289388234114178)</td>\n",
              "    </tr>\n",
              "    <tr>\n",
              "      <th>2</th>\n",
              "      <td>(24, 2)</td>\n",
              "      <td>(165, 18)</td>\n",
              "      <td>(165, 17.578504509375556)</td>\n",
              "      <td>(165, 9.981042796012439)</td>\n",
              "    </tr>\n",
              "    <tr>\n",
              "      <th>3</th>\n",
              "      <td>(85, 2)</td>\n",
              "      <td>(206, 17)</td>\n",
              "      <td>(62, 16.307104579478928)</td>\n",
              "      <td>(215, 7.051306868666213)</td>\n",
              "    </tr>\n",
              "    <tr>\n",
              "      <th>4</th>\n",
              "      <td>(150, 2)</td>\n",
              "      <td>(215, 12)</td>\n",
              "      <td>(215, 11.118838623184768)</td>\n",
              "      <td>(85, 6.6231456313484705)</td>\n",
              "    </tr>\n",
              "  </tbody>\n",
              "</table>\n",
              "</div>"
            ],
            "text/plain": [
              "    Binario         TF                     Tf-Idf                       BM25\n",
              "0    (0, 2)   (62, 21)   (206, 36.60740036104147)   (206, 18.46287284547201)\n",
              "1    (1, 2)  (150, 18)    (150, 24.7804771061628)  (150, 15.289388234114178)\n",
              "2   (24, 2)  (165, 18)  (165, 17.578504509375556)   (165, 9.981042796012439)\n",
              "3   (85, 2)  (206, 17)   (62, 16.307104579478928)   (215, 7.051306868666213)\n",
              "4  (150, 2)  (215, 12)  (215, 11.118838623184768)   (85, 6.6231456313484705)"
            ]
          },
          "metadata": {
            "tags": []
          },
          "execution_count": 86
        }
      ]
    },
    {
      "cell_type": "markdown",
      "metadata": {
        "id": "Azk3gyngb4xl",
        "colab_type": "text"
      },
      "source": [
        "## Consulta: universidade federal"
      ]
    },
    {
      "cell_type": "code",
      "metadata": {
        "id": "NAMCNlzncL2Q",
        "colab_type": "code",
        "outputId": "cc11a83f-02eb-4821-d64f-b6567eb6be4f",
        "colab": {
          "base_uri": "https://localhost:8080/",
          "height": 204
        }
      },
      "source": [
        "createTable(\"universidade federal\", dataframe)"
      ],
      "execution_count": 87,
      "outputs": [
        {
          "output_type": "execute_result",
          "data": {
            "text/html": [
              "<div>\n",
              "<style scoped>\n",
              "    .dataframe tbody tr th:only-of-type {\n",
              "        vertical-align: middle;\n",
              "    }\n",
              "\n",
              "    .dataframe tbody tr th {\n",
              "        vertical-align: top;\n",
              "    }\n",
              "\n",
              "    .dataframe thead th {\n",
              "        text-align: right;\n",
              "    }\n",
              "</style>\n",
              "<table border=\"1\" class=\"dataframe\">\n",
              "  <thead>\n",
              "    <tr style=\"text-align: right;\">\n",
              "      <th></th>\n",
              "      <th>Binario</th>\n",
              "      <th>TF</th>\n",
              "      <th>Tf-Idf</th>\n",
              "      <th>BM25</th>\n",
              "    </tr>\n",
              "  </thead>\n",
              "  <tbody>\n",
              "    <tr>\n",
              "      <th>0</th>\n",
              "      <td>(2, 2)</td>\n",
              "      <td>(129, 16)</td>\n",
              "      <td>(129, 32.39925370233226)</td>\n",
              "      <td>(129, 13.707376566371341)</td>\n",
              "    </tr>\n",
              "    <tr>\n",
              "      <th>1</th>\n",
              "      <td>(6, 2)</td>\n",
              "      <td>(215, 13)</td>\n",
              "      <td>(215, 26.32439363314496)</td>\n",
              "      <td>(215, 12.589927389764982)</td>\n",
              "    </tr>\n",
              "    <tr>\n",
              "      <th>2</th>\n",
              "      <td>(164, 2)</td>\n",
              "      <td>(172, 9)</td>\n",
              "      <td>(172, 16.64332926098531)</td>\n",
              "      <td>(172, 12.546556635527661)</td>\n",
              "    </tr>\n",
              "    <tr>\n",
              "      <th>3</th>\n",
              "      <td>(172, 2)</td>\n",
              "      <td>(213, 7)</td>\n",
              "      <td>(213, 12.988735284837924)</td>\n",
              "      <td>(213, 10.50091915485509)</td>\n",
              "    </tr>\n",
              "    <tr>\n",
              "      <th>4</th>\n",
              "      <td>(202, 2)</td>\n",
              "      <td>(150, 5)</td>\n",
              "      <td>(150, 8.1482030987581)</td>\n",
              "      <td>(209, 6.769906832140872)</td>\n",
              "    </tr>\n",
              "  </tbody>\n",
              "</table>\n",
              "</div>"
            ],
            "text/plain": [
              "    Binario         TF                     Tf-Idf                       BM25\n",
              "0    (2, 2)  (129, 16)   (129, 32.39925370233226)  (129, 13.707376566371341)\n",
              "1    (6, 2)  (215, 13)   (215, 26.32439363314496)  (215, 12.589927389764982)\n",
              "2  (164, 2)   (172, 9)   (172, 16.64332926098531)  (172, 12.546556635527661)\n",
              "3  (172, 2)   (213, 7)  (213, 12.988735284837924)   (213, 10.50091915485509)\n",
              "4  (202, 2)   (150, 5)     (150, 8.1482030987581)   (209, 6.769906832140872)"
            ]
          },
          "metadata": {
            "tags": []
          },
          "execution_count": 87
        }
      ]
    },
    {
      "cell_type": "markdown",
      "metadata": {
        "id": "lk4IXdcNb8k5",
        "colab_type": "text"
      },
      "source": [
        "## Consulta: festas universitárias"
      ]
    },
    {
      "cell_type": "code",
      "metadata": {
        "id": "9rl3APN4cPdT",
        "colab_type": "code",
        "outputId": "1faa2417-09ea-454e-9216-b22b3441faec",
        "colab": {
          "base_uri": "https://localhost:8080/",
          "height": 204
        }
      },
      "source": [
        "createTable(\"escola infantil\", dataframe)"
      ],
      "execution_count": 88,
      "outputs": [
        {
          "output_type": "execute_result",
          "data": {
            "text/html": [
              "<div>\n",
              "<style scoped>\n",
              "    .dataframe tbody tr th:only-of-type {\n",
              "        vertical-align: middle;\n",
              "    }\n",
              "\n",
              "    .dataframe tbody tr th {\n",
              "        vertical-align: top;\n",
              "    }\n",
              "\n",
              "    .dataframe thead th {\n",
              "        text-align: right;\n",
              "    }\n",
              "</style>\n",
              "<table border=\"1\" class=\"dataframe\">\n",
              "  <thead>\n",
              "    <tr style=\"text-align: right;\">\n",
              "      <th></th>\n",
              "      <th>Binario</th>\n",
              "      <th>TF</th>\n",
              "      <th>Tf-Idf</th>\n",
              "      <th>BM25</th>\n",
              "    </tr>\n",
              "  </thead>\n",
              "  <tbody>\n",
              "    <tr>\n",
              "      <th>0</th>\n",
              "      <td>(202, 2)</td>\n",
              "      <td>(238, 9)</td>\n",
              "      <td>(238, 18.787263420393902)</td>\n",
              "      <td>(202, 12.535073640744613)</td>\n",
              "    </tr>\n",
              "    <tr>\n",
              "      <th>1</th>\n",
              "      <td>(5, 1)</td>\n",
              "      <td>(202, 5)</td>\n",
              "      <td>(202, 15.384419075481208)</td>\n",
              "      <td>(238, 10.876836717070153)</td>\n",
              "    </tr>\n",
              "    <tr>\n",
              "      <th>2</th>\n",
              "      <td>(6, 1)</td>\n",
              "      <td>(213, 5)</td>\n",
              "      <td>(213, 10.437368566885501)</td>\n",
              "      <td>(213, 7.6540702823827)</td>\n",
              "    </tr>\n",
              "    <tr>\n",
              "      <th>3</th>\n",
              "      <td>(10, 1)</td>\n",
              "      <td>(79, 4)</td>\n",
              "      <td>(79, 8.3498948535084)</td>\n",
              "      <td>(79, 6.560631670613743)</td>\n",
              "    </tr>\n",
              "    <tr>\n",
              "      <th>4</th>\n",
              "      <td>(28, 1)</td>\n",
              "      <td>(5, 2)</td>\n",
              "      <td>(30, 6.648472681052054)</td>\n",
              "      <td>(30, 6.094433290964383)</td>\n",
              "    </tr>\n",
              "  </tbody>\n",
              "</table>\n",
              "</div>"
            ],
            "text/plain": [
              "    Binario        TF                     Tf-Idf                       BM25\n",
              "0  (202, 2)  (238, 9)  (238, 18.787263420393902)  (202, 12.535073640744613)\n",
              "1    (5, 1)  (202, 5)  (202, 15.384419075481208)  (238, 10.876836717070153)\n",
              "2    (6, 1)  (213, 5)  (213, 10.437368566885501)     (213, 7.6540702823827)\n",
              "3   (10, 1)   (79, 4)      (79, 8.3498948535084)    (79, 6.560631670613743)\n",
              "4   (28, 1)    (5, 2)    (30, 6.648472681052054)    (30, 6.094433290964383)"
            ]
          },
          "metadata": {
            "tags": []
          },
          "execution_count": 88
        }
      ]
    },
    {
      "cell_type": "markdown",
      "metadata": {
        "id": "esCNSjiOeULY",
        "colab_type": "text"
      },
      "source": [
        "# Questão 5"
      ]
    },
    {
      "cell_type": "markdown",
      "metadata": {
        "id": "1y8NsdtRekty",
        "colab_type": "text"
      },
      "source": [
        "## Quais modelos você acha que trouxe os melhores resultados? Por que? Inspecione os documentos retornados para melhor embasar sua resposta."
      ]
    },
    {
      "cell_type": "markdown",
      "metadata": {
        "id": "PFva8t6skzdC",
        "colab_type": "text"
      },
      "source": [
        "Levando em consideração a consulta \"presidente jair\"\n",
        "\n"
      ]
    },
    {
      "cell_type": "code",
      "metadata": {
        "id": "IE22Xykch67I",
        "colab_type": "code",
        "colab": {
          "base_uri": "https://localhost:8080/",
          "height": 204
        },
        "outputId": "544b3c1d-4a9b-43c0-c667-980c8f0d9f74"
      },
      "source": [
        "table_docs = tableJair.applymap(lambda x: x[0])\n",
        "table_docs"
      ],
      "execution_count": 89,
      "outputs": [
        {
          "output_type": "execute_result",
          "data": {
            "text/html": [
              "<div>\n",
              "<style scoped>\n",
              "    .dataframe tbody tr th:only-of-type {\n",
              "        vertical-align: middle;\n",
              "    }\n",
              "\n",
              "    .dataframe tbody tr th {\n",
              "        vertical-align: top;\n",
              "    }\n",
              "\n",
              "    .dataframe thead th {\n",
              "        text-align: right;\n",
              "    }\n",
              "</style>\n",
              "<table border=\"1\" class=\"dataframe\">\n",
              "  <thead>\n",
              "    <tr style=\"text-align: right;\">\n",
              "      <th></th>\n",
              "      <th>Binario</th>\n",
              "      <th>TF</th>\n",
              "      <th>Tf-Idf</th>\n",
              "      <th>BM25</th>\n",
              "    </tr>\n",
              "  </thead>\n",
              "  <tbody>\n",
              "    <tr>\n",
              "      <th>0</th>\n",
              "      <td>0</td>\n",
              "      <td>62</td>\n",
              "      <td>206</td>\n",
              "      <td>206</td>\n",
              "    </tr>\n",
              "    <tr>\n",
              "      <th>1</th>\n",
              "      <td>1</td>\n",
              "      <td>150</td>\n",
              "      <td>150</td>\n",
              "      <td>150</td>\n",
              "    </tr>\n",
              "    <tr>\n",
              "      <th>2</th>\n",
              "      <td>24</td>\n",
              "      <td>165</td>\n",
              "      <td>165</td>\n",
              "      <td>165</td>\n",
              "    </tr>\n",
              "    <tr>\n",
              "      <th>3</th>\n",
              "      <td>85</td>\n",
              "      <td>206</td>\n",
              "      <td>62</td>\n",
              "      <td>215</td>\n",
              "    </tr>\n",
              "    <tr>\n",
              "      <th>4</th>\n",
              "      <td>150</td>\n",
              "      <td>215</td>\n",
              "      <td>215</td>\n",
              "      <td>85</td>\n",
              "    </tr>\n",
              "  </tbody>\n",
              "</table>\n",
              "</div>"
            ],
            "text/plain": [
              "   Binario   TF  Tf-Idf  BM25\n",
              "0        0   62     206   206\n",
              "1        1  150     150   150\n",
              "2       24  165     165   165\n",
              "3       85  206      62   215\n",
              "4      150  215     215    85"
            ]
          },
          "metadata": {
            "tags": []
          },
          "execution_count": 89
        }
      ]
    },
    {
      "cell_type": "code",
      "metadata": {
        "id": "0dmKVpGBi0op",
        "colab_type": "code",
        "colab": {
          "base_uri": "https://localhost:8080/",
          "height": 1190
        },
        "outputId": "5703ba7a-c86d-4313-fa9e-57009e7868d2"
      },
      "source": [
        "pd.options.display.max_colwidth = 500\n",
        "\n",
        "for model in table_docs:\n",
        "  docs = table_docs[model]\n",
        "  df = dataframe[['title','subtitle']].iloc[docs]\n",
        "  print(f'{model}')\n",
        "  display(df)\n",
        "  print('\\n')"
      ],
      "execution_count": 90,
      "outputs": [
        {
          "output_type": "stream",
          "text": [
            "Binario\n"
          ],
          "name": "stdout"
        },
        {
          "output_type": "display_data",
          "data": {
            "text/html": [
              "<div>\n",
              "<style scoped>\n",
              "    .dataframe tbody tr th:only-of-type {\n",
              "        vertical-align: middle;\n",
              "    }\n",
              "\n",
              "    .dataframe tbody tr th {\n",
              "        vertical-align: top;\n",
              "    }\n",
              "\n",
              "    .dataframe thead th {\n",
              "        text-align: right;\n",
              "    }\n",
              "</style>\n",
              "<table border=\"1\" class=\"dataframe\">\n",
              "  <thead>\n",
              "    <tr style=\"text-align: right;\">\n",
              "      <th></th>\n",
              "      <th>title</th>\n",
              "      <th>subtitle</th>\n",
              "    </tr>\n",
              "  </thead>\n",
              "  <tbody>\n",
              "    <tr>\n",
              "      <th>0</th>\n",
              "      <td>“A sociedade foi Rubens Paiva  não os facínoras que o mataram”</td>\n",
              "      <td>A decisão da juíza que proíbe as Forças Armadas de celebrarem golpe de 1964 contrapõe texto de militares ao de Ulysses Guimarães na Constituinte. Gilmar Mendes rejeita análise do tema</td>\n",
              "    </tr>\n",
              "    <tr>\n",
              "      <th>1</th>\n",
              "      <td>Justiça suspende decisão que proibia Forças Armadas de celebrarem golpe de 1964</td>\n",
              "      <td>Liminar havia sido concedida na sexta-feira a noite  mas menos de 24 horas depois foi derrubada</td>\n",
              "    </tr>\n",
              "    <tr>\n",
              "      <th>24</th>\n",
              "      <td>Boris Fausto e o golpe de 64: “É impossível ir contra fatos estabelecidos”</td>\n",
              "      <td>Historiador diz que as Forças Armadas nunca reconheceram os aspectos mais negativos do regime militar e que não havia ameaça imediata de implantação de um regime comunista</td>\n",
              "    </tr>\n",
              "    <tr>\n",
              "      <th>85</th>\n",
              "      <td>Presidente na ficção  humorista é favorito em disputa eleitoral na Ucrânia</td>\n",
              "      <td>Admirador declarado de Bolsonaro  o ator Volodymyr Zelenskiy lidera as pesquisas para as eleições deste domingo explorando a insatisfação popular com a elite política</td>\n",
              "    </tr>\n",
              "    <tr>\n",
              "      <th>150</th>\n",
              "      <td>Quem mandou matar Marielle? E por quê?</td>\n",
              "      <td>Bolsonaro  que governa o Brasil pela administração do ódio  deveria ser o maior interessado em desvendar o crime</td>\n",
              "    </tr>\n",
              "  </tbody>\n",
              "</table>\n",
              "</div>"
            ],
            "text/plain": [
              "                                                                               title                                                                                                                                                                                 subtitle\n",
              "0                     “A sociedade foi Rubens Paiva  não os facínoras que o mataram”  A decisão da juíza que proíbe as Forças Armadas de celebrarem golpe de 1964 contrapõe texto de militares ao de Ulysses Guimarães na Constituinte. Gilmar Mendes rejeita análise do tema\n",
              "1    Justiça suspende decisão que proibia Forças Armadas de celebrarem golpe de 1964                                                                                          Liminar havia sido concedida na sexta-feira a noite  mas menos de 24 horas depois foi derrubada\n",
              "24        Boris Fausto e o golpe de 64: “É impossível ir contra fatos estabelecidos”              Historiador diz que as Forças Armadas nunca reconheceram os aspectos mais negativos do regime militar e que não havia ameaça imediata de implantação de um regime comunista\n",
              "85        Presidente na ficção  humorista é favorito em disputa eleitoral na Ucrânia                   Admirador declarado de Bolsonaro  o ator Volodymyr Zelenskiy lidera as pesquisas para as eleições deste domingo explorando a insatisfação popular com a elite política\n",
              "150                                           Quem mandou matar Marielle? E por quê?                                                                         Bolsonaro  que governa o Brasil pela administração do ódio  deveria ser o maior interessado em desvendar o crime"
            ]
          },
          "metadata": {
            "tags": []
          }
        },
        {
          "output_type": "stream",
          "text": [
            "\n",
            "\n",
            "TF\n"
          ],
          "name": "stdout"
        },
        {
          "output_type": "display_data",
          "data": {
            "text/html": [
              "<div>\n",
              "<style scoped>\n",
              "    .dataframe tbody tr th:only-of-type {\n",
              "        vertical-align: middle;\n",
              "    }\n",
              "\n",
              "    .dataframe tbody tr th {\n",
              "        vertical-align: top;\n",
              "    }\n",
              "\n",
              "    .dataframe thead th {\n",
              "        text-align: right;\n",
              "    }\n",
              "</style>\n",
              "<table border=\"1\" class=\"dataframe\">\n",
              "  <thead>\n",
              "    <tr style=\"text-align: right;\">\n",
              "      <th></th>\n",
              "      <th>title</th>\n",
              "      <th>subtitle</th>\n",
              "    </tr>\n",
              "  </thead>\n",
              "  <tbody>\n",
              "    <tr>\n",
              "      <th>62</th>\n",
              "      <td>“Chamar-me de traidor foi uma estratégia muito bem montada para minar minha liderança”</td>\n",
              "      <td>Ex-presidente conversa sobre seu livro ‘La Batalla por la Paz’  um relato repleto de detalhes  casos e confidências sobre as negociações com as FARC</td>\n",
              "    </tr>\n",
              "    <tr>\n",
              "      <th>150</th>\n",
              "      <td>Quem mandou matar Marielle? E por quê?</td>\n",
              "      <td>Bolsonaro  que governa o Brasil pela administração do ódio  deveria ser o maior interessado em desvendar o crime</td>\n",
              "    </tr>\n",
              "    <tr>\n",
              "      <th>165</th>\n",
              "      <td>Bolsonaro manda festejar o crime</td>\n",
              "      <td>Ao determinar a comemoração do golpe militar de 1964  o antipresidente busca manter o ódio ativo e barrar qualquer possibilidade de justiça</td>\n",
              "    </tr>\n",
              "    <tr>\n",
              "      <th>206</th>\n",
              "      <td>Dois assessores de Bolsonaro doaram mais de 100.000 reais a campanhas da família</td>\n",
              "      <td>Levantamento da Pública mostra que outros cinco assessores prestaram serviços de campanha enquanto estavam contratados pelo atual presidente ou seus três filhos</td>\n",
              "    </tr>\n",
              "    <tr>\n",
              "      <th>215</th>\n",
              "      <td>Um Brasil de dedo em riste às portas do Mackenzie</td>\n",
              "      <td>A expectativa de uma visita do presidente Jair Bolsonaro à universidade em São Paulo  cenário emblemático da luta estudantil durante a ditadura  gerou embates inflamados entre estudantes e bolsonaristas</td>\n",
              "    </tr>\n",
              "  </tbody>\n",
              "</table>\n",
              "</div>"
            ],
            "text/plain": [
              "                                                                                      title                                                                                                                                                                                                    subtitle\n",
              "62   “Chamar-me de traidor foi uma estratégia muito bem montada para minar minha liderança”                                                        Ex-presidente conversa sobre seu livro ‘La Batalla por la Paz’  um relato repleto de detalhes  casos e confidências sobre as negociações com as FARC\n",
              "150                                                  Quem mandou matar Marielle? E por quê?                                                                                            Bolsonaro  que governa o Brasil pela administração do ódio  deveria ser o maior interessado em desvendar o crime\n",
              "165                                                        Bolsonaro manda festejar o crime                                                                 Ao determinar a comemoração do golpe militar de 1964  o antipresidente busca manter o ódio ativo e barrar qualquer possibilidade de justiça\n",
              "206        Dois assessores de Bolsonaro doaram mais de 100.000 reais a campanhas da família                                            Levantamento da Pública mostra que outros cinco assessores prestaram serviços de campanha enquanto estavam contratados pelo atual presidente ou seus três filhos\n",
              "215                                       Um Brasil de dedo em riste às portas do Mackenzie  A expectativa de uma visita do presidente Jair Bolsonaro à universidade em São Paulo  cenário emblemático da luta estudantil durante a ditadura  gerou embates inflamados entre estudantes e bolsonaristas"
            ]
          },
          "metadata": {
            "tags": []
          }
        },
        {
          "output_type": "stream",
          "text": [
            "\n",
            "\n",
            "Tf-Idf\n"
          ],
          "name": "stdout"
        },
        {
          "output_type": "display_data",
          "data": {
            "text/html": [
              "<div>\n",
              "<style scoped>\n",
              "    .dataframe tbody tr th:only-of-type {\n",
              "        vertical-align: middle;\n",
              "    }\n",
              "\n",
              "    .dataframe tbody tr th {\n",
              "        vertical-align: top;\n",
              "    }\n",
              "\n",
              "    .dataframe thead th {\n",
              "        text-align: right;\n",
              "    }\n",
              "</style>\n",
              "<table border=\"1\" class=\"dataframe\">\n",
              "  <thead>\n",
              "    <tr style=\"text-align: right;\">\n",
              "      <th></th>\n",
              "      <th>title</th>\n",
              "      <th>subtitle</th>\n",
              "    </tr>\n",
              "  </thead>\n",
              "  <tbody>\n",
              "    <tr>\n",
              "      <th>206</th>\n",
              "      <td>Dois assessores de Bolsonaro doaram mais de 100.000 reais a campanhas da família</td>\n",
              "      <td>Levantamento da Pública mostra que outros cinco assessores prestaram serviços de campanha enquanto estavam contratados pelo atual presidente ou seus três filhos</td>\n",
              "    </tr>\n",
              "    <tr>\n",
              "      <th>150</th>\n",
              "      <td>Quem mandou matar Marielle? E por quê?</td>\n",
              "      <td>Bolsonaro  que governa o Brasil pela administração do ódio  deveria ser o maior interessado em desvendar o crime</td>\n",
              "    </tr>\n",
              "    <tr>\n",
              "      <th>165</th>\n",
              "      <td>Bolsonaro manda festejar o crime</td>\n",
              "      <td>Ao determinar a comemoração do golpe militar de 1964  o antipresidente busca manter o ódio ativo e barrar qualquer possibilidade de justiça</td>\n",
              "    </tr>\n",
              "    <tr>\n",
              "      <th>62</th>\n",
              "      <td>“Chamar-me de traidor foi uma estratégia muito bem montada para minar minha liderança”</td>\n",
              "      <td>Ex-presidente conversa sobre seu livro ‘La Batalla por la Paz’  um relato repleto de detalhes  casos e confidências sobre as negociações com as FARC</td>\n",
              "    </tr>\n",
              "    <tr>\n",
              "      <th>215</th>\n",
              "      <td>Um Brasil de dedo em riste às portas do Mackenzie</td>\n",
              "      <td>A expectativa de uma visita do presidente Jair Bolsonaro à universidade em São Paulo  cenário emblemático da luta estudantil durante a ditadura  gerou embates inflamados entre estudantes e bolsonaristas</td>\n",
              "    </tr>\n",
              "  </tbody>\n",
              "</table>\n",
              "</div>"
            ],
            "text/plain": [
              "                                                                                      title                                                                                                                                                                                                    subtitle\n",
              "206        Dois assessores de Bolsonaro doaram mais de 100.000 reais a campanhas da família                                            Levantamento da Pública mostra que outros cinco assessores prestaram serviços de campanha enquanto estavam contratados pelo atual presidente ou seus três filhos\n",
              "150                                                  Quem mandou matar Marielle? E por quê?                                                                                            Bolsonaro  que governa o Brasil pela administração do ódio  deveria ser o maior interessado em desvendar o crime\n",
              "165                                                        Bolsonaro manda festejar o crime                                                                 Ao determinar a comemoração do golpe militar de 1964  o antipresidente busca manter o ódio ativo e barrar qualquer possibilidade de justiça\n",
              "62   “Chamar-me de traidor foi uma estratégia muito bem montada para minar minha liderança”                                                        Ex-presidente conversa sobre seu livro ‘La Batalla por la Paz’  um relato repleto de detalhes  casos e confidências sobre as negociações com as FARC\n",
              "215                                       Um Brasil de dedo em riste às portas do Mackenzie  A expectativa de uma visita do presidente Jair Bolsonaro à universidade em São Paulo  cenário emblemático da luta estudantil durante a ditadura  gerou embates inflamados entre estudantes e bolsonaristas"
            ]
          },
          "metadata": {
            "tags": []
          }
        },
        {
          "output_type": "stream",
          "text": [
            "\n",
            "\n",
            "BM25\n"
          ],
          "name": "stdout"
        },
        {
          "output_type": "display_data",
          "data": {
            "text/html": [
              "<div>\n",
              "<style scoped>\n",
              "    .dataframe tbody tr th:only-of-type {\n",
              "        vertical-align: middle;\n",
              "    }\n",
              "\n",
              "    .dataframe tbody tr th {\n",
              "        vertical-align: top;\n",
              "    }\n",
              "\n",
              "    .dataframe thead th {\n",
              "        text-align: right;\n",
              "    }\n",
              "</style>\n",
              "<table border=\"1\" class=\"dataframe\">\n",
              "  <thead>\n",
              "    <tr style=\"text-align: right;\">\n",
              "      <th></th>\n",
              "      <th>title</th>\n",
              "      <th>subtitle</th>\n",
              "    </tr>\n",
              "  </thead>\n",
              "  <tbody>\n",
              "    <tr>\n",
              "      <th>206</th>\n",
              "      <td>Dois assessores de Bolsonaro doaram mais de 100.000 reais a campanhas da família</td>\n",
              "      <td>Levantamento da Pública mostra que outros cinco assessores prestaram serviços de campanha enquanto estavam contratados pelo atual presidente ou seus três filhos</td>\n",
              "    </tr>\n",
              "    <tr>\n",
              "      <th>150</th>\n",
              "      <td>Quem mandou matar Marielle? E por quê?</td>\n",
              "      <td>Bolsonaro  que governa o Brasil pela administração do ódio  deveria ser o maior interessado em desvendar o crime</td>\n",
              "    </tr>\n",
              "    <tr>\n",
              "      <th>165</th>\n",
              "      <td>Bolsonaro manda festejar o crime</td>\n",
              "      <td>Ao determinar a comemoração do golpe militar de 1964  o antipresidente busca manter o ódio ativo e barrar qualquer possibilidade de justiça</td>\n",
              "    </tr>\n",
              "    <tr>\n",
              "      <th>215</th>\n",
              "      <td>Um Brasil de dedo em riste às portas do Mackenzie</td>\n",
              "      <td>A expectativa de uma visita do presidente Jair Bolsonaro à universidade em São Paulo  cenário emblemático da luta estudantil durante a ditadura  gerou embates inflamados entre estudantes e bolsonaristas</td>\n",
              "    </tr>\n",
              "    <tr>\n",
              "      <th>85</th>\n",
              "      <td>Presidente na ficção  humorista é favorito em disputa eleitoral na Ucrânia</td>\n",
              "      <td>Admirador declarado de Bolsonaro  o ator Volodymyr Zelenskiy lidera as pesquisas para as eleições deste domingo explorando a insatisfação popular com a elite política</td>\n",
              "    </tr>\n",
              "  </tbody>\n",
              "</table>\n",
              "</div>"
            ],
            "text/plain": [
              "                                                                                title                                                                                                                                                                                                    subtitle\n",
              "206  Dois assessores de Bolsonaro doaram mais de 100.000 reais a campanhas da família                                            Levantamento da Pública mostra que outros cinco assessores prestaram serviços de campanha enquanto estavam contratados pelo atual presidente ou seus três filhos\n",
              "150                                            Quem mandou matar Marielle? E por quê?                                                                                            Bolsonaro  que governa o Brasil pela administração do ódio  deveria ser o maior interessado em desvendar o crime\n",
              "165                                                  Bolsonaro manda festejar o crime                                                                 Ao determinar a comemoração do golpe militar de 1964  o antipresidente busca manter o ódio ativo e barrar qualquer possibilidade de justiça\n",
              "215                                 Um Brasil de dedo em riste às portas do Mackenzie  A expectativa de uma visita do presidente Jair Bolsonaro à universidade em São Paulo  cenário emblemático da luta estudantil durante a ditadura  gerou embates inflamados entre estudantes e bolsonaristas\n",
              "85         Presidente na ficção  humorista é favorito em disputa eleitoral na Ucrânia                                      Admirador declarado de Bolsonaro  o ator Volodymyr Zelenskiy lidera as pesquisas para as eleições deste domingo explorando a insatisfação popular com a elite política"
            ]
          },
          "metadata": {
            "tags": []
          }
        },
        {
          "output_type": "stream",
          "text": [
            "\n",
            "\n"
          ],
          "name": "stdout"
        }
      ]
    },
    {
      "cell_type": "markdown",
      "metadata": {
        "id": "KZvLR_v7lHe4",
        "colab_type": "text"
      },
      "source": [
        "Acima temos os títulos de cada documento que apareceu como melhor resultado para a consulta, bem como o subtitulo. Nesses testes podemos perceber que o TF-IDF e o BM25 tem o melhor desempenho visto que o conteúdo do titulo e subtitulo já deixam bem claro de cara que o conteudo do texto tem relação com os termos pesquisados."
      ]
    },
    {
      "cell_type": "markdown",
      "metadata": {
        "id": "p3SqU2SD36vD",
        "colab_type": "text"
      },
      "source": [
        "##  Calcule e reporte o overlap par-a-par entre os resultados de cada modelo"
      ]
    },
    {
      "cell_type": "code",
      "metadata": {
        "id": "ZjZyKy6XmTq4",
        "colab_type": "code",
        "colab": {
          "base_uri": "https://localhost:8080/",
          "height": 204
        },
        "outputId": "113b4ba6-06d4-4263-b7e5-209858486ed1"
      },
      "source": [
        "tible2 = createTable(\"presidente jair\", dataframe)\n",
        "result_binario = tible2[\"Binario\"]\n",
        "result_tf =tible2[\"TF\"]\n",
        "result_tf_idf = tible2[\"Tf-Idf\"]\n",
        "result_bm25 = tible2[\"BM25\"]\n",
        "\n",
        "tible2"
      ],
      "execution_count": 91,
      "outputs": [
        {
          "output_type": "execute_result",
          "data": {
            "text/html": [
              "<div>\n",
              "<style scoped>\n",
              "    .dataframe tbody tr th:only-of-type {\n",
              "        vertical-align: middle;\n",
              "    }\n",
              "\n",
              "    .dataframe tbody tr th {\n",
              "        vertical-align: top;\n",
              "    }\n",
              "\n",
              "    .dataframe thead th {\n",
              "        text-align: right;\n",
              "    }\n",
              "</style>\n",
              "<table border=\"1\" class=\"dataframe\">\n",
              "  <thead>\n",
              "    <tr style=\"text-align: right;\">\n",
              "      <th></th>\n",
              "      <th>Binario</th>\n",
              "      <th>TF</th>\n",
              "      <th>Tf-Idf</th>\n",
              "      <th>BM25</th>\n",
              "    </tr>\n",
              "  </thead>\n",
              "  <tbody>\n",
              "    <tr>\n",
              "      <th>0</th>\n",
              "      <td>(0, 2)</td>\n",
              "      <td>(62, 21)</td>\n",
              "      <td>(206, 36.60740036104147)</td>\n",
              "      <td>(206, 18.46287284547201)</td>\n",
              "    </tr>\n",
              "    <tr>\n",
              "      <th>1</th>\n",
              "      <td>(1, 2)</td>\n",
              "      <td>(150, 18)</td>\n",
              "      <td>(150, 24.7804771061628)</td>\n",
              "      <td>(150, 15.289388234114178)</td>\n",
              "    </tr>\n",
              "    <tr>\n",
              "      <th>2</th>\n",
              "      <td>(24, 2)</td>\n",
              "      <td>(165, 18)</td>\n",
              "      <td>(165, 17.578504509375556)</td>\n",
              "      <td>(165, 9.981042796012439)</td>\n",
              "    </tr>\n",
              "    <tr>\n",
              "      <th>3</th>\n",
              "      <td>(85, 2)</td>\n",
              "      <td>(206, 17)</td>\n",
              "      <td>(62, 16.307104579478928)</td>\n",
              "      <td>(215, 7.051306868666213)</td>\n",
              "    </tr>\n",
              "    <tr>\n",
              "      <th>4</th>\n",
              "      <td>(150, 2)</td>\n",
              "      <td>(215, 12)</td>\n",
              "      <td>(215, 11.118838623184768)</td>\n",
              "      <td>(85, 6.6231456313484705)</td>\n",
              "    </tr>\n",
              "  </tbody>\n",
              "</table>\n",
              "</div>"
            ],
            "text/plain": [
              "    Binario         TF                     Tf-Idf                       BM25\n",
              "0    (0, 2)   (62, 21)   (206, 36.60740036104147)   (206, 18.46287284547201)\n",
              "1    (1, 2)  (150, 18)    (150, 24.7804771061628)  (150, 15.289388234114178)\n",
              "2   (24, 2)  (165, 18)  (165, 17.578504509375556)   (165, 9.981042796012439)\n",
              "3   (85, 2)  (206, 17)   (62, 16.307104579478928)   (215, 7.051306868666213)\n",
              "4  (150, 2)  (215, 12)  (215, 11.118838623184768)   (85, 6.6231456313484705)"
            ]
          },
          "metadata": {
            "tags": []
          },
          "execution_count": 91
        }
      ]
    },
    {
      "cell_type": "code",
      "metadata": {
        "id": "6h2OlFZsBfRD",
        "colab_type": "code",
        "colab": {}
      },
      "source": [
        "consultas = [\"presidente jair\", \"universidade federal\", \"escola infantil\"]\n",
        "jaccard_binario_tf = []\n",
        "jaccard_binario_tf_idf = []\n",
        "jaccard_binario_bm25 = []\n",
        "jaccard_tf_tf_idf = []\n",
        "jaccard_tf_bm25 = []\n",
        "jaccard_tf_idf_bm25 = []"
      ],
      "execution_count": 0,
      "outputs": []
    },
    {
      "cell_type": "code",
      "metadata": {
        "id": "V6wzimJU9Ddh",
        "colab_type": "code",
        "colab": {}
      },
      "source": [
        "def jaccard(result1, result2):\n",
        "  aux1 = []\n",
        "  aux2 = []\n",
        "  \n",
        "  for item in result1:\n",
        "    if(item[1] != 0):\n",
        "      aux1.append(item[0])\n",
        "      \n",
        "  for item2 in result2:\n",
        "    if(item2[1] != 0):\n",
        "      aux2.append(item2[0])\n",
        "  \n",
        "  aeb = len(set(aux1) & set(aux2))\n",
        "  \n",
        "  a = len(aux1)\n",
        "  b = len(aux2)  \n",
        "  jaccard = aeb / (a + b - aeb)\n",
        "  \n",
        "  return jaccard\n",
        "\n",
        "#binarioTf = jaccard(result_binario,result_bm25)\n",
        "#print(binarioTf)"
      ],
      "execution_count": 0,
      "outputs": []
    },
    {
      "cell_type": "code",
      "metadata": {
        "id": "zwGhRIo1IKcK",
        "colab_type": "code",
        "colab": {}
      },
      "source": [
        "for consulta in consultas:\n",
        "  \n",
        "  ## Estrutura para criação da tabela com os valores dos Indices de Jaccard\n",
        "  tible2 = createTable(consulta, dataframe)\n",
        "  result_binario = tible2[\"Binario\"]\n",
        "  result_tf =tible2[\"TF\"]\n",
        "  result_tf_idf = tible2[\"Tf-Idf\"]\n",
        "  result_bm25 = tible2[\"BM25\"]\n",
        "  \n",
        "  binarioTf = jaccard(result_binario,result_tf)\n",
        "  jaccard_binario_tf.append(binarioTf)\n",
        "  \n",
        "  binarioTf_idf = jaccard(result_binario,result_tf_idf)\n",
        "  jaccard_binario_tf_idf.append(binarioTf_idf)\n",
        "  \n",
        "  binario_bm25 = jaccard(result_binario,result_bm25)\n",
        "  jaccard_binario_bm25.append(binario_bm25)\n",
        " \n",
        "  tf_tf_idf = jaccard(result_tf, result_tf_idf)\n",
        "  jaccard_tf_tf_idf.append(tf_tf_idf)\n",
        " \n",
        "  tf_bm25 = jaccard(result_tf, result_bm25)\n",
        "  jaccard_tf_bm25.append(tf_bm25)\n",
        " \n",
        "  tf_idf_bm25 = jaccard(result_tf_idf, result_bm25)\n",
        "  jaccard_tf_idf_bm25.append(tf_idf_bm25)"
      ],
      "execution_count": 0,
      "outputs": []
    },
    {
      "cell_type": "markdown",
      "metadata": {
        "id": "Mz2A2QYJmprr",
        "colab_type": "text"
      },
      "source": [
        "### Tabela: Índice de Jaccard (par-a-par)"
      ]
    },
    {
      "cell_type": "code",
      "metadata": {
        "id": "PUylf92FI5y3",
        "colab_type": "code",
        "colab": {
          "base_uri": "https://localhost:8080/",
          "height": 142
        },
        "outputId": "45f6dde5-b6cd-4257-db2e-4d2a13fcec74"
      },
      "source": [
        "tabela5 = pd.DataFrame()\n",
        "\n",
        "tabela5[\"Consultas\"] = consultas\n",
        "tabela5[\"binario_tf\"] = jaccard_binario_tf\n",
        "tabela5[\"binario_tf_idf\"] = jaccard_binario_tf_idf\n",
        "tabela5[\"binario_bm25\"] = jaccard_binario_bm25\n",
        "tabela5[\"tf_tf_idf\"] = jaccard_tf_tf_idf\n",
        "tabela5[\"tf_bm25\"] = jaccard_tf_bm25\n",
        "tabela5[\"tf_idf_bm25\"] = jaccard_tf_idf_bm25\n",
        "\n",
        "tabela5"
      ],
      "execution_count": 95,
      "outputs": [
        {
          "output_type": "execute_result",
          "data": {
            "text/html": [
              "<div>\n",
              "<style scoped>\n",
              "    .dataframe tbody tr th:only-of-type {\n",
              "        vertical-align: middle;\n",
              "    }\n",
              "\n",
              "    .dataframe tbody tr th {\n",
              "        vertical-align: top;\n",
              "    }\n",
              "\n",
              "    .dataframe thead th {\n",
              "        text-align: right;\n",
              "    }\n",
              "</style>\n",
              "<table border=\"1\" class=\"dataframe\">\n",
              "  <thead>\n",
              "    <tr style=\"text-align: right;\">\n",
              "      <th></th>\n",
              "      <th>Consultas</th>\n",
              "      <th>binario_tf</th>\n",
              "      <th>binario_tf_idf</th>\n",
              "      <th>binario_bm25</th>\n",
              "      <th>tf_tf_idf</th>\n",
              "      <th>tf_bm25</th>\n",
              "      <th>tf_idf_bm25</th>\n",
              "    </tr>\n",
              "  </thead>\n",
              "  <tbody>\n",
              "    <tr>\n",
              "      <th>0</th>\n",
              "      <td>presidente jair</td>\n",
              "      <td>0.111111</td>\n",
              "      <td>0.111111</td>\n",
              "      <td>0.250000</td>\n",
              "      <td>1.000000</td>\n",
              "      <td>0.666667</td>\n",
              "      <td>0.666667</td>\n",
              "    </tr>\n",
              "    <tr>\n",
              "      <th>1</th>\n",
              "      <td>universidade federal</td>\n",
              "      <td>0.111111</td>\n",
              "      <td>0.111111</td>\n",
              "      <td>0.111111</td>\n",
              "      <td>1.000000</td>\n",
              "      <td>0.666667</td>\n",
              "      <td>0.666667</td>\n",
              "    </tr>\n",
              "    <tr>\n",
              "      <th>2</th>\n",
              "      <td>escola infantil</td>\n",
              "      <td>0.250000</td>\n",
              "      <td>0.111111</td>\n",
              "      <td>0.111111</td>\n",
              "      <td>0.666667</td>\n",
              "      <td>0.666667</td>\n",
              "      <td>1.000000</td>\n",
              "    </tr>\n",
              "  </tbody>\n",
              "</table>\n",
              "</div>"
            ],
            "text/plain": [
              "              Consultas  binario_tf  ...   tf_bm25  tf_idf_bm25\n",
              "0       presidente jair    0.111111  ...  0.666667     0.666667\n",
              "1  universidade federal    0.111111  ...  0.666667     0.666667\n",
              "2       escola infantil    0.250000  ...  0.666667     1.000000\n",
              "\n",
              "[3 rows x 7 columns]"
            ]
          },
          "metadata": {
            "tags": []
          },
          "execution_count": 95
        }
      ]
    }
  ]
}